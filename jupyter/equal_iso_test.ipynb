{
 "cells": [
  {
   "cell_type": "code",
   "execution_count": 47,
   "source": [
    "import numpy as np\r\n",
    "from scipy import linalg\r\n",
    "import math"
   ],
   "outputs": [
    {
     "output_type": "error",
     "ename": "ModuleNotFoundError",
     "evalue": "No module named 'LatticeDrawing'",
     "traceback": [
      "\u001b[1;31m---------------------------------------------------------------------------\u001b[0m",
      "\u001b[1;31mModuleNotFoundError\u001b[0m                       Traceback (most recent call last)",
      "\u001b[1;32m~\\AppData\\Local\\Temp/ipykernel_12972/2034527997.py\u001b[0m in \u001b[0;36m<module>\u001b[1;34m\u001b[0m\n\u001b[0;32m      1\u001b[0m \u001b[1;32mimport\u001b[0m \u001b[0mnumpy\u001b[0m \u001b[1;32mas\u001b[0m \u001b[0mnp\u001b[0m\u001b[1;33m\u001b[0m\u001b[1;33m\u001b[0m\u001b[0m\n\u001b[1;32m----> 2\u001b[1;33m \u001b[1;32mimport\u001b[0m \u001b[0mLatticeDrawing\u001b[0m\u001b[1;33m\u001b[0m\u001b[1;33m\u001b[0m\u001b[0m\n\u001b[0m\u001b[0;32m      3\u001b[0m \u001b[1;32mfrom\u001b[0m \u001b[0mscipy\u001b[0m \u001b[1;32mimport\u001b[0m \u001b[0mlinalg\u001b[0m\u001b[1;33m\u001b[0m\u001b[1;33m\u001b[0m\u001b[0m\n\u001b[0;32m      4\u001b[0m \u001b[1;32mimport\u001b[0m \u001b[0mmath\u001b[0m\u001b[1;33m\u001b[0m\u001b[1;33m\u001b[0m\u001b[0m\n",
      "\u001b[1;31mModuleNotFoundError\u001b[0m: No module named 'LatticeDrawing'"
     ]
    }
   ],
   "metadata": {}
  },
  {
   "cell_type": "markdown",
   "source": [
    "Input: Matriz Geradora do reticulado $\\Lambda$\r\n",
    "\r\n",
    "As isometrias são dadas pelas transformações lineares:\r\n",
    "\r\n",
    "$\\phi_1(x,y) = (x,y)$\r\n",
    "\r\n",
    "$\\phi_2(x,y) = (-x,-y)$\r\n",
    "\r\n",
    "$\\phi_3(x,y) = (-x,y)$ \r\n",
    "\r\n",
    "$\\phi_4(x,y) = (x,-y)$\r\n",
    "\r\n",
    "$\\phi_5(x,y) = (y,x)$\r\n",
    "\r\n",
    "$\\phi_6(x,y) = (-y,x)$\r\n",
    "\r\n",
    "$\\phi_7(x,y) = (-y,x)$ \r\n",
    "\r\n",
    "$\\phi_8(x,y) = (y,-x)$ \r\n"
   ],
   "metadata": {}
  },
  {
   "cell_type": "code",
   "execution_count": null,
   "source": [
    "# Matriz do Reticulado\r\n",
    "matrixLambda = np.matrix('0 6; 3 3') #- (0,2(r+1)), (r+1,r+1))\r\n",
    "#matrixLambda = np.matrix('5 1; 2 4') #- (2r+ 1,1),(r,r+2)\r\n",
    "\r\n",
    "# Matriz das Isometrias (\\phi)'s\r\n",
    "matrixIso1 = np.matrix('1 0; 0 1')\r\n",
    "matrixIso2 = np.matrix('-1 0; 0 -1')\r\n",
    "matrixIso3 = np.matrix('-1 0; 0 1')\r\n",
    "matrixIso4 = np.matrix('1 0; 0 -1')\r\n",
    "matrixIso5 = np.matrix('0 1; 1 0')\r\n",
    "matrixIso6 = np.matrix('0 -1; -1 0')\r\n",
    "matrixIso7 = np.matrix('0 -1; 1 0')\r\n",
    "matrixIso8 = np.matrix('0 1; -1 0')\r\n",
    "\r\n",
    "list_matrixIso = [matrixIso1, matrixIso2, matrixIso3, matrixIso4, matrixIso5, matrixIso6, matrixIso7, matrixIso8]"
   ],
   "outputs": [],
   "metadata": {}
  },
  {
   "cell_type": "code",
   "execution_count": null,
   "source": [
    "def list_newlattices(matrixLambda, list_matrixIso):\r\n",
    "    \r\n",
    "    list_lattices = []\r\n",
    "    for matrix in list_matrixIso:\r\n",
    "        list_lattices.append(np.dot(matrixLambda, matrix))\r\n",
    "\r\n",
    "    return list_lattices"
   ],
   "outputs": [],
   "metadata": {}
  },
  {
   "cell_type": "code",
   "execution_count": 48,
   "source": [
    "for matrix in list_newlattices(matrixLambda, list_matrixIso):\r\n",
    "    print(matrix)"
   ],
   "outputs": [
    {
     "output_type": "stream",
     "name": "stdout",
     "text": [
      "[[0 6]\n",
      " [3 3]]\n",
      "[[ 0 -6]\n",
      " [-3 -3]]\n",
      "[[ 0  6]\n",
      " [-3  3]]\n",
      "[[ 0 -6]\n",
      " [ 3 -3]]\n",
      "[[6 0]\n",
      " [3 3]]\n",
      "[[-6  0]\n",
      " [-3 -3]]\n",
      "[[ 6  0]\n",
      " [ 3 -3]]\n",
      "[[-6  0]\n",
      " [-3  3]]\n"
     ]
    }
   ],
   "metadata": {}
  },
  {
   "cell_type": "code",
   "execution_count": null,
   "source": [
    "def ver_interger_solut(matrix1, matrix2): #Verifica se as linhas da matriz 2 podem ser escritas como combinação linear inteira das linhas da matriz 1\r\n",
    "\r\n",
    "    for row in matrix2: \r\n",
    "        for list_numbers in linalg.solve(matrix1, row.transpose()).tolist():\r\n",
    "            for number in list_numbers:\r\n",
    "                if number//1 != number:\r\n",
    "                    return False\r\n",
    "    return True\r\n",
    "\r\n",
    "def compare_lattice(matrix1, matrix2): #Verifica se os reticulados são iguais a partir da matriz geradora\r\n",
    "\r\n",
    "    if ver_interger_solut(matrix1, matrix2) and ver_interger_solut(matrix2, matrix1): \r\n",
    "        return True\r\n",
    "    return False\r\n",
    "\r\n",
    "def show_equals(matrixLambda, list_matrixIso): #Exibe quais são os reticulados que são iguais ao inicial e quais não são\r\n",
    "\r\n",
    "    mlattices = list_newlattices(matrixLambda, list_matrixIso)\r\n",
    "\r\n",
    "    for index in range(len(mlattices)):\r\n",
    "        if compare_lattice(matrixLambda.transpose(), mlattices[index]):\r\n",
    "            print(\"O Reticulado gerado pela isometria (\\phi)\", index+1, \"é igual ao original\")\r\n",
    "        else:\r\n",
    "            print(\"O Reticulado gerado pela isometria (\\phi)\", index+1, \"é diferente do original\")"
   ],
   "outputs": [],
   "metadata": {}
  },
  {
   "cell_type": "code",
   "execution_count": null,
   "source": [
    "show_equals(matrixLambda, list_matrixIso)"
   ],
   "outputs": [
    {
     "output_type": "stream",
     "name": "stdout",
     "text": [
      "O Reticulado gerado pela isometria (\\phi) 1 é igual ao original\n",
      "O Reticulado gerado pela isometria (\\phi) 2 é igual ao original\n",
      "O Reticulado gerado pela isometria (\\phi) 3 é igual ao original\n",
      "O Reticulado gerado pela isometria (\\phi) 4 é igual ao original\n",
      "O Reticulado gerado pela isometria (\\phi) 5 é igual ao original\n",
      "O Reticulado gerado pela isometria (\\phi) 6 é igual ao original\n",
      "O Reticulado gerado pela isometria (\\phi) 7 é igual ao original\n",
      "O Reticulado gerado pela isometria (\\phi) 8 é igual ao original\n"
     ]
    }
   ],
   "metadata": {}
  }
 ],
 "metadata": {
  "orig_nbformat": 4,
  "language_info": {
   "name": "python",
   "version": "3.9.6",
   "mimetype": "text/x-python",
   "codemirror_mode": {
    "name": "ipython",
    "version": 3
   },
   "pygments_lexer": "ipython3",
   "nbconvert_exporter": "python",
   "file_extension": ".py"
  },
  "kernelspec": {
   "name": "python3",
   "display_name": "Python 3.9.6 64-bit"
  },
  "interpreter": {
   "hash": "4f0ffb3683f6d916fbba459b0ddb22e5e675b5ce53403c30e65bad3b886ae6df"
  }
 },
 "nbformat": 4,
 "nbformat_minor": 2
}