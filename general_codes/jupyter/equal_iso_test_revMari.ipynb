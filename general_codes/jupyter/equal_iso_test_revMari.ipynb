{
  "nbformat": 4,
  "nbformat_minor": 2,
  "metadata": {
    "colab": {
      "name": "lucas_eduardo.ipynb",
      "provenance": []
    },
    "kernelspec": {
      "name": "python3",
      "display_name": "Python 3.9.6 64-bit"
    },
    "language_info": {
      "name": "python",
      "version": "3.9.6",
      "mimetype": "text/x-python",
      "codemirror_mode": {
        "name": "ipython",
        "version": 3
      },
      "pygments_lexer": "ipython3",
      "nbconvert_exporter": "python",
      "file_extension": ".py"
    },
    "interpreter": {
      "hash": "4f0ffb3683f6d916fbba459b0ddb22e5e675b5ce53403c30e65bad3b886ae6df"
    }
  },
  "cells": [
    {
      "cell_type": "code",
      "execution_count": 1,
      "source": [
        "import numpy as np\r\n",
        "from scipy import linalg\r\n",
        "import math"
      ],
      "outputs": [],
      "metadata": {
        "id": "jYkC34IP2FQf"
      }
    },
    {
      "cell_type": "code",
      "execution_count": 2,
      "source": [
        "# Matriz do Reticulado\r\n",
        "matrixLambda = np.matrix('0 6; 3 3') #- (0,2(r+1)), (r+1,r+1))\r\n",
        "#matrixLambda = np.matrix('5 1; 2 4') - (2r+ 1,1),(r,r+2)\r\n",
        "\r\n",
        "# Matriz das Isometrias (\\phi)'s\r\n",
        "coordenadas = [\r\n",
        "    '1 0; 0 1', '-1 0; 0 -1', '-1 0; 0 1', '-1 0; 0 1',\r\n",
        "    '1 0; 0 -1', '0 1; 1 0', '0 -1; -1 0', '0 -1; 1 0',\r\n",
        "    '0 1; -1 0'\r\n",
        "]\r\n",
        "\r\n",
        "list_matrixIso = [\r\n",
        "    np.matrix(isometria)\r\n",
        "    for isometria in coordenadas\r\n",
        "]"
      ],
      "outputs": [],
      "metadata": {
        "colab": {
          "base_uri": "https://localhost:8080/"
        },
        "id": "iAf-X_oW2U4Z",
        "outputId": "81b05313-9af2-4c93-9c54-82f85b701626"
      }
    },
    {
      "cell_type": "code",
      "execution_count": 3,
      "source": [
        "def list_newlattices(matrixLambda, list_matrixIso):\r\n",
        "\r\n",
        "    return [\r\n",
        "        np.dot(matrixLambda, matrix)\r\n",
        "        for matrix in list_matrixIso\r\n",
        "    ]\r\n",
        "\r\n",
        "\r\n",
        "# Verifica se as linhas da matriz 2 podem ser escritas como combinação linear inteira das linhas da matriz 1\r\n",
        "# Aqui resolvemos todos os sistemas e depois verificamos se existe uma que não é inteira\r\n",
        "def ver_interger_solut(matrix1, matrix2):\r\n",
        "    \r\n",
        "    solutions = sum([\r\n",
        "        linalg.solve(matrix1, item.transpose()).tolist()\r\n",
        "        for item in matrix2\r\n",
        "    ], [])\r\n",
        "\r\n",
        "    return (\r\n",
        "        False\r\n",
        "        if number[0] // 1 != number[0]\r\n",
        "        else True\r\n",
        "        for number in solutions\r\n",
        "    )\r\n",
        "\r\n",
        "\r\n",
        "# Verifica se os reticulados são iguais a partir da matriz geradora\r\n",
        "def compare_lattice(matrix1, matrix2):\r\n",
        "\r\n",
        "    return (\r\n",
        "        True\r\n",
        "        if ver_interger_solut(matrix1, matrix2) and ver_interger_solut(matrix2, matrix1)\r\n",
        "        else False\r\n",
        "    )\r\n",
        "\r\n",
        "\r\n",
        "# Exibe quais são os reticulados que são iguais ao inicial e quais não são\r\n",
        "def show_equals(matrixLambda, list_matrixIso):\r\n",
        "\r\n",
        "    mlattices = list_newlattices(matrixLambda, list_matrixIso)\r\n",
        "    pattern = f'O Reticulado gerado pela isometria (\\phi)'\r\n",
        "\r\n",
        "    for lattice in mlattices:\r\n",
        "        if compare_lattice(matrixLambda.transpose(), lattice):\r\n",
        "            print(f'{pattern} {lattice} é igual ao original {matrixLambda}.')\r\n",
        "        else:\r\n",
        "            print(f'{pattern} {lattice} é diferente do original {matrixLambda}.')\r\n"
      ],
      "outputs": [],
      "metadata": {
        "id": "oggd32sD2ZX1"
      }
    },
    {
      "cell_type": "code",
      "execution_count": null,
      "source": [
        "show_equals(matrixLambda, list_matrixIso)"
      ],
      "outputs": [],
      "metadata": {
        "colab": {
          "base_uri": "https://localhost:8080/"
        },
        "id": "7_iGMwvD2coR",
        "outputId": "031469c3-1450-4e09-ddcd-165cd27a1dd3"
      }
    }
  ]
}